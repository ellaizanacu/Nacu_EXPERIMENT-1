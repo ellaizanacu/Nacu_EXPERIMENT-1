{
 "cells": [
  {
   "cell_type": "code",
   "execution_count": 73,
   "id": "398b4756-23a9-461e-9e53-d82a132e38b8",
   "metadata": {},
   "outputs": [
    {
     "name": "stdout",
     "output_type": "stream",
     "text": [
      "ehllo\n",
      "acehkr\n",
      "aggimmnoprr\n",
      "aaccefnrs\n"
     ]
    }
   ],
   "source": [
    "#define the function to sort the characters in the string\n",
    "def String_Sorter(s):\n",
    "\n",
    "    #converts the string into separate characters\n",
    "    char_list = list(s)\n",
    "\n",
    "    #sorts the list of characters alphabetically\n",
    "    char_list.sort()\n",
    "\n",
    "    #combines the alphabetically sorted characters back into a string\n",
    "    sorted_string = ''.join(char_list)\n",
    "\n",
    "    #returns the sorted string\n",
    "    return sorted_string\n",
    "\n",
    "#prints the characters in the string in alphabetical order\n",
    "print(String_Sorter(\"hello\"))\n",
    "print(String_Sorter(\"hacker\"))\n",
    "print(String_Sorter(\"programming\"))\n",
    "print(String_Sorter(\"francesca\"))"
   ]
  },
  {
   "cell_type": "code",
   "execution_count": 75,
   "id": "9ea2fc0d-200f-4921-bc56-5d117e6e4fbb",
   "metadata": {},
   "outputs": [
    {
     "name": "stdout",
     "output_type": "stream",
     "text": [
      "Make me :)\n",
      "I am >:(\n",
      "Aww, so :((\n"
     ]
    }
   ],
   "source": [
    "#define the function that replaces words into their specific emoticons\n",
    "def Emotify(phrase):\n",
    "\n",
    "    #makes a \"library\" for words to associate with their emoticons\n",
    "    emoticon_library = {\"smile\": \":)\", \"grin\": \":D\", \"sad\": \":((\", \"mad\": \">:(\"}\n",
    "\n",
    "    #splits the sentence into words\n",
    "    words = phrase.split()\n",
    "\n",
    "    #checks if the word mentioned is in the emoticon \"library\"\n",
    "    replaced_words = [emoticon_library[words] if words in emoticon_library else words for words in words]\n",
    "    \n",
    "    #combines the emoticon-replaced words back into a new phrase\n",
    "    new_phrase = ' '.join(replaced_words)\n",
    "    \n",
    "    #returns the newly replaced phrase\n",
    "    return new_phrase\n",
    "\n",
    "#prints the newly replaced emoticon-words into a newly combined phrase\n",
    "print(Emotify(\"Make me smile\"))\n",
    "print(Emotify(\"I am mad\"))\n",
    "print(Emotify(\"Aww, so sad\"))"
   ]
  },
  {
   "cell_type": "code",
   "execution_count": 77,
   "id": "2368e391-e1a8-4522-b5f2-1d31a80eac86",
   "metadata": {},
   "outputs": [
    {
     "name": "stdout",
     "output_type": "stream",
     "text": [
      "Example:    1st = [1, 2, 3, 4, 5, 6]\n",
      "Output:     first: 1    middle: [2, 3, 4, 5]    last: 6   \n"
     ]
    }
   ],
   "source": [
    "#define and name the list with the given numbers\n",
    "writeyourcodehere = [1, 2, 3, 4, 5, 6]\n",
    "\n",
    "#sorts the given list into its first, middle, and last elements respectively\n",
    "first, *middle, last = writeyourcodehere\n",
    "\n",
    "#prints the example\n",
    "print(\"Example:\", \"  \", \"1st =\", writeyourcodehere)\n",
    "\n",
    "#prints the output\n",
    "print(\"Output:\", \"   \", \"first:\", first, \"  \",  \"middle:\", middle, \"  \",  \"last:\", last, \"  \")"
   ]
  }
 ],
 "metadata": {
  "kernelspec": {
   "display_name": "Python 3 (ipykernel)",
   "language": "python",
   "name": "python3"
  },
  "language_info": {
   "codemirror_mode": {
    "name": "ipython",
    "version": 3
   },
   "file_extension": ".py",
   "mimetype": "text/x-python",
   "name": "python",
   "nbconvert_exporter": "python",
   "pygments_lexer": "ipython3",
   "version": "3.12.4"
  }
 },
 "nbformat": 4,
 "nbformat_minor": 5
}
